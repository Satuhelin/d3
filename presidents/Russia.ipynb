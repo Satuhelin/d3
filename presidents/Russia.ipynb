{
 "cells": [
  {
   "cell_type": "code",
   "execution_count": 1,
   "metadata": {},
   "outputs": [],
   "source": [
    "import pandas as pd\n",
    "%matplotlib inline\n",
    "import requests\n",
    "from bs4 import BeautifulSoup\n",
    "import time\n"
   ]
  },
  {
   "cell_type": "markdown",
   "metadata": {},
   "source": [
    "# Scraping the trips by Russian presidents"
   ]
  },
  {
   "cell_type": "code",
   "execution_count": 3,
   "metadata": {},
   "outputs": [],
   "source": [
    "r = requests.get(\"http://en.kremlin.ru/events/president/trips/page/42\")\n",
    "    #\"http://en.kremlin.ru/events/president/trips/45655\")"
   ]
  },
  {
   "cell_type": "code",
   "execution_count": 4,
   "metadata": {},
   "outputs": [
    {
     "data": {
      "text/plain": [
       "200"
      ]
     },
     "execution_count": 4,
     "metadata": {},
     "output_type": "execute_result"
    }
   ],
   "source": [
    "r.status_code"
   ]
  },
  {
   "cell_type": "code",
   "execution_count": 5,
   "metadata": {},
   "outputs": [],
   "source": [
    "soup = BeautifulSoup(r.content)"
   ]
  },
  {
   "cell_type": "code",
   "execution_count": 6,
   "metadata": {},
   "outputs": [],
   "source": [
    "links = soup.find_all(\"a\")"
   ]
  },
  {
   "cell_type": "code",
   "execution_count": 7,
   "metadata": {},
   "outputs": [
    {
     "data": {
      "text/plain": [
       "109"
      ]
     },
     "execution_count": 7,
     "metadata": {},
     "output_type": "execute_result"
    }
   ],
   "source": [
    "len(links)"
   ]
  },
  {
   "cell_type": "code",
   "execution_count": 8,
   "metadata": {},
   "outputs": [],
   "source": [
    "content_div = soup.find(\"div\", {\"class\": \"entry-content\"})"
   ]
  },
  {
   "cell_type": "code",
   "execution_count": 9,
   "metadata": {},
   "outputs": [],
   "source": [
    "content_links = content_div.find_all(\"a\")"
   ]
  },
  {
   "cell_type": "code",
   "execution_count": 10,
   "metadata": {},
   "outputs": [],
   "source": [
    "trip_links = []\n",
    "for cl in content_links:\n",
    "    if \"trips\" in cl[\"href\"]:\n",
    "        if cl[\"href\"] in trip_links:\n",
    "            pass\n",
    "        else:\n",
    "            trip_links.append(cl[\"href\"])"
   ]
  },
  {
   "cell_type": "code",
   "execution_count": 11,
   "metadata": {},
   "outputs": [
    {
     "data": {
      "text/plain": [
       "['/events/president/trips/45653',\n",
       " '/events/president/trips/45644',\n",
       " '/events/president/trips/45649',\n",
       " '/events/president/trips/45648',\n",
       " '/events/president/trips/45647',\n",
       " '/events/president/trips/45642',\n",
       " '/events/president/trips/45639',\n",
       " '/events/president/trips/45641',\n",
       " '/events/president/trips/45640',\n",
       " '/events/president/trips/45637',\n",
       " '/events/president/trips/45662',\n",
       " '/events/president/trips/45627']"
      ]
     },
     "execution_count": 11,
     "metadata": {},
     "output_type": "execute_result"
    }
   ],
   "source": [
    "trip_links"
   ]
  },
  {
   "cell_type": "code",
   "execution_count": 12,
   "metadata": {},
   "outputs": [],
   "source": [
    "test_link = \"http://en.kremlin.ru\"+ trip_links[0]"
   ]
  },
  {
   "cell_type": "code",
   "execution_count": 13,
   "metadata": {},
   "outputs": [
    {
     "data": {
      "text/plain": [
       "'http://en.kremlin.ru/events/president/trips/45653'"
      ]
     },
     "execution_count": 13,
     "metadata": {},
     "output_type": "execute_result"
    }
   ],
   "source": [
    "test_link"
   ]
  },
  {
   "cell_type": "code",
   "execution_count": 14,
   "metadata": {},
   "outputs": [],
   "source": [
    "r2 = requests.get(test_link)"
   ]
  },
  {
   "cell_type": "code",
   "execution_count": 15,
   "metadata": {},
   "outputs": [],
   "source": [
    "soup2 = BeautifulSoup(r2.content, \"html.parser\")"
   ]
  },
  {
   "cell_type": "markdown",
   "metadata": {},
   "source": [
    "# Finding the info on one trip"
   ]
  },
  {
   "cell_type": "code",
   "execution_count": 16,
   "metadata": {},
   "outputs": [
    {
     "data": {
      "text/plain": [
       "'President Vladimir Putin replied to\\xa0questions put to\\xa0him by\\xa0the\\xa0Italian newspaper IlSole 24 Ore and\\xa0the\\xa0magazine Impresa Italia, in\\xa0anticipation of\\xa0his working visit to\\xa0Italy on\\xa0June\\xa05 and\\xa06, 2000 '"
      ]
     },
     "execution_count": 16,
     "metadata": {},
     "output_type": "execute_result"
    }
   ],
   "source": [
    "soup2.find_all(\"h1\")[1].text"
   ]
  },
  {
   "cell_type": "code",
   "execution_count": 17,
   "metadata": {},
   "outputs": [
    {
     "data": {
      "text/plain": [
       "'June 3, 2000, 20:30 '"
      ]
     },
     "execution_count": 17,
     "metadata": {},
     "output_type": "execute_result"
    }
   ],
   "source": [
    "soup2.find_all(itemprop=\"datePublished\")[1].string"
   ]
  },
  {
   "cell_type": "code",
   "execution_count": 18,
   "metadata": {},
   "outputs": [
    {
     "data": {
      "text/plain": [
       "'Italy'"
      ]
     },
     "execution_count": 18,
     "metadata": {},
     "output_type": "execute_result"
    }
   ],
   "source": [
    "soup2.find(rel=\"tag\").text"
   ]
  },
  {
   "cell_type": "code",
   "execution_count": 19,
   "metadata": {},
   "outputs": [
    {
     "data": {
      "text/plain": [
       "{'location': 'Italy',\n",
       " 'date': 'June 3, 2000, 20:30 ',\n",
       " 'title': 'President Vladimir Putin replied to\\xa0questions put to\\xa0him by\\xa0the\\xa0Italian newspaper IlSole 24 Ore and\\xa0the\\xa0magazine Impresa Italia, in\\xa0anticipation of\\xa0his working visit to\\xa0Italy on\\xa0June\\xa05 and\\xa06, 2000 ',\n",
       " 'link': 'http://en.kremlin.ru/events/president/trips/45653'}"
      ]
     },
     "execution_count": 19,
     "metadata": {},
     "output_type": "execute_result"
    }
   ],
   "source": [
    "dict = {}\n",
    "dict['location'] = soup2.find(rel=\"tag\").text\n",
    "dict['date']= soup2.find_all(itemprop=\"datePublished\")[1].string\n",
    "dict['title']=soup2.find_all(\"h1\")[1].text\n",
    "dict['link']= \"http://en.kremlin.ru\"+ trip_links[0]\n",
    "dict"
   ]
  },
  {
   "cell_type": "markdown",
   "metadata": {},
   "source": [
    "# Scraping all the pages in parts"
   ]
  },
  {
   "cell_type": "code",
   "execution_count": 20,
   "metadata": {},
   "outputs": [
    {
     "data": {
      "text/plain": [
       "[{'location': 'Italy',\n",
       "  'date': 'June 3, 2000, 20:30 ',\n",
       "  'title': 'President Vladimir Putin replied to\\xa0questions put to\\xa0him by\\xa0the\\xa0Italian newspaper IlSole 24 Ore and\\xa0the\\xa0magazine Impresa Italia, in\\xa0anticipation of\\xa0his working visit to\\xa0Italy on\\xa0June\\xa05 and\\xa06, 2000 ',\n",
       "  'link': 'http://en.kremlin.ru/events/president/trips/45653'},\n",
       " {'location': 'Belarus',\n",
       "  'date': 'May 23, 2000, 15:30 ',\n",
       "  'title': 'President Vladimir Putin met with Belarusian President Alexander Lukashenko ',\n",
       "  'link': 'http://en.kremlin.ru/events/president/trips/45644'},\n",
       " {'location': 'Turkmenistan',\n",
       "  'date': 'May 19, 2000, 19:30 ',\n",
       "  'title': 'Vladimir Putin arrived in\\xa0Turkmenistan ',\n",
       "  'link': 'http://en.kremlin.ru/events/president/trips/45649'},\n",
       " {'location': 'Uzbekistan',\n",
       "  'date': 'May 18, 2000, 19:00 ',\n",
       "  'title': 'Vladimir Putin arrived in\\xa0Uzbekistan ',\n",
       "  'link': 'http://en.kremlin.ru/events/president/trips/45648'},\n",
       " {'location': 'Belgorod Region',\n",
       "  'date': 'May 3, 2000, 15:30 ',\n",
       "  'title': \"Acting President Vladimir Putin, Ukrainian President Leonid Kuchma and\\xa0Belarusian President Alexander Lukashenko visited Sts. Peter and\\xa0Paul's Church in\\xa0Prokhorovka Field \",\n",
       "  'link': 'http://en.kremlin.ru/events/president/trips/45647'},\n",
       " {'location': 'Ukraine',\n",
       "  'date': 'April 18, 2000, 13:40 ',\n",
       "  'title': 'Acting President Vladimir Putin met Ukrainian President Leonid Kuchma ',\n",
       "  'link': 'http://en.kremlin.ru/events/president/trips/45642'},\n",
       " {'location': 'United Kingdom',\n",
       "  'date': 'April 17, 2000, 14:30 ',\n",
       "  'title': \"Vladimir Putin met with top executives of\\xa0Britain's largest companies \",\n",
       "  'link': 'http://en.kremlin.ru/events/president/trips/45639'},\n",
       " {'location': 'Belarus',\n",
       "  'date': 'April 16, 2000, 18:30 ',\n",
       "  'title': 'Acting President Vladimir Putin held talks with Belarusian President Alexander Lukashenko ',\n",
       "  'link': 'http://en.kremlin.ru/events/president/trips/45641'},\n",
       " {'location': 'Murmansk Region',\n",
       "  'date': 'April 5, 2000, 19:30 ',\n",
       "  'title': 'Acting President Vladimir Putin chaired a\\xa0meeting on\\xa0the\\xa0problems of\\xa0the\\xa0Northern Sea Route and\\xa0the\\xa0development of\\xa0Russian shipbuilding ',\n",
       "  'link': 'http://en.kremlin.ru/events/president/trips/45640'},\n",
       " {'location': 'Chechen Republic',\n",
       "  'date': 'March 20, 2000, 15:00 ',\n",
       "  'title': 'Acting President Vladimir Putin arrived in\\xa0Grozny ',\n",
       "  'link': 'http://en.kremlin.ru/events/president/trips/45637'},\n",
       " {'location': 'Saint Petersburg',\n",
       "  'date': 'March 11, 2000, 19:35 ',\n",
       "  'title': 'Acting President Vladimir Putin met with the\\xa0World Bank President James Wolfensohn ',\n",
       "  'link': 'http://en.kremlin.ru/events/president/trips/45662'},\n",
       " {'location': 'Republic of Daghestan',\n",
       "  'date': 'January 1, 2000, 11:00 ',\n",
       "  'title': 'Acting President and\\xa0Prime Minister Vladimir Putin presented awards to\\xa0a\\xa0group of\\xa0military personnel of\\xa0the\\xa0joint group of\\xa0federal forces in\\xa0the\\xa0North Caucasus ',\n",
       "  'link': 'http://en.kremlin.ru/events/president/trips/45627'}]"
      ]
     },
     "execution_count": 20,
     "metadata": {},
     "output_type": "execute_result"
    }
   ],
   "source": [
    "all_dict=[]\n",
    "for url_end in trip_links:\n",
    "    url2 = \"http://en.kremlin.ru\" + url_end\n",
    "    doc=requests.get(url2).content\n",
    "    soup_doc = BeautifulSoup(doc,\"html.parser\")\n",
    "    dict1 = {}\n",
    "    dict1['location'] = soup_doc.find(rel=\"tag\").text\n",
    "    dict1['date']= soup_doc.find_all(itemprop=\"datePublished\")[1].string\n",
    "    dict1['title']=soup_doc.find_all(\"h1\")[1].text\n",
    "    dict1['link']= url2\n",
    "    all_dict.append(dict1)\n",
    "\n",
    "all_dict"
   ]
  },
  {
   "cell_type": "code",
   "execution_count": 39,
   "metadata": {},
   "outputs": [
    {
     "data": {
      "text/plain": [
       "[{'location': '',\n",
       "  'date': 'July 5, 2010, 10:30 ',\n",
       "  'title': 'Statement on\\xa0entry into force of\\xa0the\\xa0customs code of\\xa0the\\xa0Customs Union between Russia, Belarus and\\xa0Kazakhstan ',\n",
       "  'link': 'http://en.kremlin.ru/events/president/trips/8279'},\n",
       " {'location': 'Amur Region',\n",
       "  'date': 'July 3, 2010, 11:30 ',\n",
       "  'title': 'Working meeting with Governor of\\xa0Amur Region Oleg Kozhemyako ',\n",
       "  'link': 'http://en.kremlin.ru/events/president/trips/8258'},\n",
       " {'location': 'Primorye Territory',\n",
       "  'date': 'July 3, 2010, 17:50 ',\n",
       "  'title': 'Dmitry Medvedev congratulated Vladivostok residents on\\xa0the\\xa0city’s 150th anniversary ',\n",
       "  'link': 'http://en.kremlin.ru/events/president/trips/8271'},\n",
       " {'location': 'Jewish Autonomous Region',\n",
       "  'date': 'July 2, 2010, 11:20 ',\n",
       "  'title': 'Meeting with small business representatives ',\n",
       "  'link': 'http://en.kremlin.ru/events/president/trips/8245'},\n",
       " {'location': 'Khabarovsk Territory',\n",
       "  'date': 'July 2, 2010, 05:00 ',\n",
       "  'title': 'Integration with the\\xa0Asia-Pacific region countries offers great economic potential for\\xa0developing Russia’s Far East ',\n",
       "  'link': 'http://en.kremlin.ru/events/president/trips/8244'},\n",
       " {'location': '',\n",
       "  'date': 'June 27, 2010, 03:00 ',\n",
       "  'title': \"Meeting with President of\\xa0the\\xa0People's Republic of\\xa0China Hu Jintao \",\n",
       "  'link': 'http://en.kremlin.ru/events/president/trips/8183'},\n",
       " {'location': 'Canada',\n",
       "  'date': 'June 26, 2010, 02:00 ',\n",
       "  'title': 'First day of\\xa0G8 summit drew to\\xa0a\\xa0close ',\n",
       "  'link': 'http://en.kremlin.ru/events/president/trips/8175'},\n",
       " {'location': 'United States',\n",
       "  'date': 'June 18, 2010, 01:00 ',\n",
       "  'title': 'Interview to\\xa0the\\xa0Wall Street Journal ',\n",
       "  'link': 'http://en.kremlin.ru/events/president/trips/8166'},\n",
       " {'location': 'Saint Petersburg',\n",
       "  'date': 'June 17, 2010, 19:45 ',\n",
       "  'title': 'Meeting with presidents of\\xa0Armenia and\\xa0Azerbaijan ',\n",
       "  'link': 'http://en.kremlin.ru/events/president/trips/8114'},\n",
       " {'location': 'Chechen Republic',\n",
       "  'date': 'June 14, 2010, 17:00 ',\n",
       "  'title': 'Trip to\\xa0Chechnya ',\n",
       "  'link': 'http://en.kremlin.ru/events/president/trips/8042'},\n",
       " {'location': 'Uzbekistan',\n",
       "  'date': 'June 10, 2010, 15:00 ',\n",
       "  'title': 'Meeting with President of\\xa0Uzbekistan Islam Karimov ',\n",
       "  'link': 'http://en.kremlin.ru/events/president/trips/8022'},\n",
       " {'location': 'Germany',\n",
       "  'date': 'June 4, 2010, 22:00 ',\n",
       "  'title': 'Dmitry Medvedev arrived to\\xa0Germany on\\xa0a\\xa0working visit ',\n",
       "  'link': 'http://en.kremlin.ru/events/president/trips/7974'},\n",
       " {'location': 'Rostov Region',\n",
       "  'date': 'May 31, 2010, 20:10 ',\n",
       "  'title': 'Russian and\\xa0EU leaders held an\\xa0informal meeting as\\xa0part of\\xa0the\\xa0Russia-EU summit ',\n",
       "  'link': 'http://en.kremlin.ru/events/president/trips/7936'},\n",
       " {'location': 'Leningrad Region',\n",
       "  'date': 'May 29, 2010, 16:00 ',\n",
       "  'title': 'Dmitry Medvedev visited Leningrad Nuclear Power Plant ',\n",
       "  'link': 'http://en.kremlin.ru/events/president/trips/7900'},\n",
       " {'location': 'Ukraine',\n",
       "  'date': 'May 17, 2010, 21:00 ',\n",
       "  'title': 'Russian-Ukrainian summit talks ',\n",
       "  'link': 'http://en.kremlin.ru/events/president/trips/7787'},\n",
       " {'location': 'Turkey',\n",
       "  'date': 'May 11, 2010, 20:00 ',\n",
       "  'title': 'Dmitry Medvedev arrived in\\xa0Turkey on\\xa0an\\xa0official visit ',\n",
       "  'link': 'http://en.kremlin.ru/events/president/trips/7731'},\n",
       " {'location': 'Syria',\n",
       "  'date': 'May 10, 2010, 22:30 ',\n",
       "  'title': 'Dmitry Medvedev arrived in\\xa0Syria on\\xa0an\\xa0official visit ',\n",
       "  'link': 'http://en.kremlin.ru/events/president/trips/7712'},\n",
       " {'location': 'Moscow Region',\n",
       "  'date': 'May 7, 2010, 14:30 ',\n",
       "  'title': 'Dmitry Medvedev visited the\\xa0scenes of\\xa0battles that played a\\xa0decisive part in\\xa0the\\xa0defence of\\xa0Moscow in\\xa0autumn 1941 ',\n",
       "  'link': 'http://en.kremlin.ru/events/president/trips/9460'},\n",
       " {'location': 'Denmark',\n",
       "  'date': 'April 26, 2010, 23:00 ',\n",
       "  'title': 'Interview to\\xa0Steffen Kretz, Danish Broadcasting Corporation’s Senior International Editor and\\xa0Anchor of\\xa0TV News and\\xa0Current Affairs Programme ',\n",
       "  'link': 'http://en.kremlin.ru/events/president/trips/7573'},\n",
       " {'location': 'Norway',\n",
       "  'date': 'April 26, 2010, 16:00 ',\n",
       "  'title': \"Dmitry Medvedev's two-day state visit to\\xa0Norway has begun \",\n",
       "  'link': 'http://en.kremlin.ru/events/president/trips/7564'},\n",
       " {'location': 'Ukraine',\n",
       "  'date': 'April 21, 2010, 15:30 ',\n",
       "  'title': 'Dmitry Medvedev met with President of\\xa0Ukraine Viktor Yanukovych ',\n",
       "  'link': 'http://en.kremlin.ru/events/president/trips/7520'},\n",
       " {'location': 'Poland',\n",
       "  'date': 'April 18, 2010, 16:00 ',\n",
       "  'title': 'Dmitry Medvedev met with Marshal of\\xa0the\\xa0Sejm of\\xa0Poland Bronislaw Komorowski ',\n",
       "  'link': 'http://en.kremlin.ru/events/president/trips/10779'},\n",
       " {'location': 'Brazil',\n",
       "  'date': 'April 16, 2010, 01:30 ',\n",
       "  'title': \"Dmitry Medvedev met with President of\\xa0the\\xa0People's Republic of\\xa0China Hu Jintao \",\n",
       "  'link': 'http://en.kremlin.ru/events/president/trips/7482'},\n",
       " {'location': 'Argentina',\n",
       "  'date': 'April 15, 2010, 01:15 ',\n",
       "  'title': 'Dmitry Medvedev met with Russian and\\xa0Argentine business community members ',\n",
       "  'link': 'http://en.kremlin.ru/events/president/trips/7463'},\n",
       " {'location': 'United States',\n",
       "  'date': 'April 13, 2010, 06:00 ',\n",
       "  'title': 'Dmitry Medvedev met with President of\\xa0Kazakhstan Nursultan Nazarbayev ',\n",
       "  'link': 'http://en.kremlin.ru/events/president/trips/7457'},\n",
       " {'location': 'Leningrad Region',\n",
       "  'date': 'April 9, 2010, 14:00 ',\n",
       "  'title': \"Dmitry Medvedev took part in\\xa0a\\xa0ceremony marking the\\xa0start of\\xa0construction of\\xa0the\\xa0Nord Stream gas pipeline's underwater section \",\n",
       "  'link': 'http://en.kremlin.ru/events/president/trips/7411'},\n",
       " {'location': 'Czech Republic',\n",
       "  'date': 'April 7, 2010, 23:30 ',\n",
       "  'title': 'Dmitry Medvedev met with President of\\xa0Czech Republic Vaclav Klaus ',\n",
       "  'link': 'http://en.kremlin.ru/events/president/trips/7402'},\n",
       " {'location': 'Slovakia',\n",
       "  'date': 'April 6, 2010, 08:00 ',\n",
       "  'title': 'Mission: Partnership ',\n",
       "  'link': 'http://en.kremlin.ru/events/president/trips/7383'},\n",
       " {'location': 'Republic of Daghestan',\n",
       "  'date': 'April 1, 2010, 15:00 ',\n",
       "  'title': 'Dmitry Medvedev held a\\xa0meeting with leaders of\\xa0republics within North Caucasus Federal District and\\xa0law enforcement agencies ',\n",
       "  'link': 'http://en.kremlin.ru/events/president/trips/7311'},\n",
       " {'location': 'France',\n",
       "  'date': 'March 1, 2010, 23:00 ',\n",
       "  'title': \"Russian-French summit talks took place during Dmitry Medvedev's state visit to\\xa0France \",\n",
       "  'link': 'http://en.kremlin.ru/events/president/trips/7012'},\n",
       " {'location': 'Kabardino-Balkarian Republic',\n",
       "  'date': 'February 27, 2010, 18:00 ',\n",
       "  'title': 'Dmitry Medvedev made a\\xa0working visit to\\xa0the\\xa0Kabardino-Balkarian Republic, where he held a\\xa0meeting on\\xa0the\\xa0North Caucasus Federal District development ',\n",
       "  'link': 'http://en.kremlin.ru/events/president/trips/6995'},\n",
       " {'location': 'Turkmenistan',\n",
       "  'date': 'December 22, 2009, 14:00 ',\n",
       "  'title': 'Talks were held between President of\\xa0Russia Dmitry Medvedev and\\xa0President of\\xa0Turkmenistan Gurbanguly Berdimuhamedov ',\n",
       "  'link': 'http://en.kremlin.ru/events/president/trips/6432'},\n",
       " {'location': 'Kazakhstan',\n",
       "  'date': 'December 19, 2009, 17:00 ',\n",
       "  'title': 'Informal meeting of\\xa0the\\xa0presidents of\\xa0Russia, Belarus, Kazakhstan, Armenia, Kyrgyzstan, Tajikistan and\\xa0Turkmenistan has taken place ',\n",
       "  'link': 'http://en.kremlin.ru/events/president/trips/6407'},\n",
       " {'location': 'Denmark',\n",
       "  'date': 'December 18, 2009, 02:15 ',\n",
       "  'title': 'Dmitry Medvedev met with Prime Minister of\\xa0Lebanon Saad Hariri ',\n",
       "  'link': 'http://en.kremlin.ru/events/president/trips/6398'},\n",
       " {'location': 'Italy',\n",
       "  'date': 'December 3, 2009, 16:30 ',\n",
       "  'title': 'Russian-Italian interstate consultations took place ',\n",
       "  'link': 'http://en.kremlin.ru/events/president/trips/6246'},\n",
       " {'location': 'Belarus',\n",
       "  'date': 'November 27, 2009, 18:00 ',\n",
       "  'title': 'Dmitry Medvedev took part in\\xa0the\\xa0summit meeting of\\xa0the\\xa0Eurasian Economic Community Interstate Council and\\xa0meeting of\\xa0the\\xa0Interstate Council in\\xa0its capacity as\\xa0highest body of\\xa0the\\xa0Customs Union ',\n",
       "  'link': 'http://en.kremlin.ru/events/president/trips/6154'},\n",
       " {'location': 'Sweden',\n",
       "  'date': 'November 18, 2009, 12:00 ',\n",
       "  'title': 'Dmitry Medvedev met with Swedish Prime Minister Fredrik Reinfeldt ',\n",
       "  'link': 'http://en.kremlin.ru/events/president/trips/6047'},\n",
       " {'location': 'Singapore',\n",
       "  'date': 'November 14, 2009, 07:00 ',\n",
       "  'title': 'Dmitry Medvedev spoke at\\xa0APEC CEO Summit in\\xa0Singapore ',\n",
       "  'link': 'http://en.kremlin.ru/events/president/trips/6014'},\n",
       " {'location': 'Germany',\n",
       "  'date': 'November 9, 2009, 19:00 ',\n",
       "  'title': 'Dmitry Medvedev met with President of\\xa0France Nicolas Sarkozy ',\n",
       "  'link': 'http://en.kremlin.ru/events/president/trips/5960'},\n",
       " {'location': 'Serbia',\n",
       "  'date': 'October 20, 2009, 17:00 ',\n",
       "  'title': 'Dmitry Medvedev held talks with President of\\xa0Serbia Boris Tadic ',\n",
       "  'link': 'http://en.kremlin.ru/events/president/trips/5789'},\n",
       " {'location': 'Kazakhstan',\n",
       "  'date': 'October 16, 2009, 12:00 ',\n",
       "  'title': 'Dmitry Medvedev observed the\\xa0final active phase of\\xa0Cooperation 2009 special complex rapid reaction force exercises ',\n",
       "  'link': 'http://en.kremlin.ru/events/president/trips/5758'},\n",
       " {'location': 'Moldova',\n",
       "  'date': 'October 9, 2009, 15:00 ',\n",
       "  'title': 'A\\xa0trilateral meeting took place between the\\xa0presidents of\\xa0Russia, Armenia and\\xa0Azerbaijan\\xa0— Dmitry Medvedev, Serzh Sargsyan and\\xa0Ilham Aliyev ',\n",
       "  'link': 'http://en.kremlin.ru/events/president/trips/5707'},\n",
       " {'location': 'United States',\n",
       "  'date': 'September 23, 2009, 18:30 ',\n",
       "  'title': \"Dmitry Medvedev met with President of\\xa0the\\xa0People's Republic of\\xa0China Hu Jintao in\\xa0New York, where the\\xa064th session of\\xa0the\\xa0UN General Assembly is underway \",\n",
       "  'link': 'http://en.kremlin.ru/events/president/trips/5582'},\n",
       " {'location': 'Switzerland',\n",
       "  'date': 'September 21, 2009, 21:00 ',\n",
       "  'title': \"Russian-Swiss talks were held as\\xa0part of\\xa0Dmitry Medvedev's state visit to\\xa0Switzerland \",\n",
       "  'link': 'http://en.kremlin.ru/events/president/trips/5542'},\n",
       " {'location': 'Yaroslavl Region',\n",
       "  'date': 'September 14, 2009, 14:30 ',\n",
       "  'title': 'Dmitry Medvedev met with Prime Minister of\\xa0France Francois Fillon ',\n",
       "  'link': 'http://en.kremlin.ru/events/president/trips/5470'},\n",
       " {'location': 'Turkmenistan',\n",
       "  'date': 'September 13, 2009, 12:00 ',\n",
       "  'title': 'Dmitry Medvedev visited the\\xa0city of\\xa0Turkmenbashi, where he took part in\\xa0the\\xa0ceremonies marking the\\xa0final stage of\\xa0the\\xa0Silk Way Rally Dakar Series 2009 and\\xa0held talks with President of\\xa0Turkmenistan Gurbanguly Berdimuhamedov ',\n",
       "  'link': 'http://en.kremlin.ru/events/president/trips/5456'},\n",
       " {'location': 'Orenburg Region',\n",
       "  'date': 'September 11, 2009, 09:00 ',\n",
       "  'title': 'Dmitry Medvedev had a\\xa0meeting with Governor of\\xa0Orenburg Region Alexei Chernyshev ',\n",
       "  'link': 'http://en.kremlin.ru/events/president/trips/5440'},\n",
       " {'location': 'Kazakhstan',\n",
       "  'date': 'September 11, 2009, 18:15 ',\n",
       "  'title': 'A\\xa0meeting took place between the\\xa0presidents of\\xa0Russia, Kazakhstan, Azerbaijan and\\xa0Turkmenistan ',\n",
       "  'link': 'http://en.kremlin.ru/events/president/trips/5441'},\n",
       " {'location': 'Mongolia',\n",
       "  'date': 'August 25, 2009, 12:30 ',\n",
       "  'title': \"Russian-Mongolian talks were held during Dmitry Medvedev's official visit to\\xa0Mongolia \",\n",
       "  'link': 'http://en.kremlin.ru/events/president/trips/5315'},\n",
       " {'location': 'Republic of\\xa0Buryatia',\n",
       "  'date': 'August 24, 2009, 17:00 ',\n",
       "  'title': 'Dmitry Medvedev made a\\xa0working visit to\\xa0Buryatia ',\n",
       "  'link': 'http://en.kremlin.ru/events/president/trips/5272'},\n",
       " {'location': 'Republic of North Ossetia — Alania',\n",
       "  'date': 'August 8, 2009, 16:00 ',\n",
       "  'title': 'Dmitry Medvedev made a\\xa0visit to\\xa0North Ossetia ',\n",
       "  'link': 'http://en.kremlin.ru/events/president/trips/5155'},\n",
       " {'location': 'Tajikistan',\n",
       "  'date': 'July 30, 2009, 16:00 ',\n",
       "  'title': 'Dmitry Medvedev met with President of\\xa0Pakistan Asif Ali Zardari ',\n",
       "  'link': 'http://en.kremlin.ru/events/president/trips/4983'},\n",
       " {'location': 'Germany',\n",
       "  'date': 'July 16, 2009, 15:40 ',\n",
       "  'title': 'High-level Russian-German intergovernmental consultations took place in\\xa0Munich. ',\n",
       "  'link': 'http://en.kremlin.ru/events/president/trips/4841'},\n",
       " {'location': 'South Ossetia',\n",
       "  'date': 'July 13, 2009, 16:30 ',\n",
       "  'title': 'Dmitry Medvedev made a\\xa0working visit to\\xa0South Ossetia ',\n",
       "  'link': 'http://en.kremlin.ru/events/president/trips/4840'},\n",
       " {'location': 'Italy',\n",
       "  'date': 'July 8, 2009, 20:00 ',\n",
       "  'title': 'First working meeting of\\xa0G8 leaders was held ',\n",
       "  'link': 'http://en.kremlin.ru/events/president/trips/4758'},\n",
       " {'location': 'Arkhangelsk Region',\n",
       "  'date': 'July 2, 2009, 15:30 ',\n",
       "  'title': 'Dmitry Medvedev visited Production Association Northern Machine-Building Enterprise (Sevmash) ',\n",
       "  'link': 'http://en.kremlin.ru/events/president/trips/4875'},\n",
       " {'location': 'Azerbaijan',\n",
       "  'date': 'June 29, 2009, 16:30 ',\n",
       "  'title': 'Dmitry Medvedev held talks with President of\\xa0Azerbaijan Ilham Aliyev ',\n",
       "  'link': 'http://en.kremlin.ru/events/president/trips/4899'},\n",
       " {'location': 'Angola',\n",
       "  'date': 'June 26, 2009, 22:30 ',\n",
       "  'title': 'Dmitry Medvedev has made an\\xa0official visit to\\xa0Angola ',\n",
       "  'link': 'http://en.kremlin.ru/events/president/trips/4897'},\n",
       " {'location': 'Namibia',\n",
       "  'date': 'June 25, 2009, 15:20 ',\n",
       "  'title': 'During his official visit to\\xa0Namibia President of\\xa0Russia Dmitry Medvedev held talks with President of\\xa0Namibia Hifikepunye Pohamba ',\n",
       "  'link': 'http://en.kremlin.ru/events/president/trips/4896'},\n",
       " {'location': 'Nigeria',\n",
       "  'date': 'June 24, 2009, 22:30 ',\n",
       "  'title': 'Russian-Nigerian talks took place in\\xa0Abuja ',\n",
       "  'link': 'http://en.kremlin.ru/events/president/trips/4892'},\n",
       " {'location': 'Egypt',\n",
       "  'date': 'June 23, 2009, 16:00 ',\n",
       "  'title': 'During his official visit to\\xa0the\\xa0Arab Republic of\\xa0Egypt, President of\\xa0Russia Dmitry Medvedev held talks with Egyptian President Hosni Mubarak ',\n",
       "  'link': 'http://en.kremlin.ru/events/president/trips/4891'},\n",
       " {'location': 'Leningrad Region',\n",
       "  'date': 'June 21, 2009, 15:00 ',\n",
       "  'title': 'Dmitry Medvedev visited the\\xa0Pavlovsk State Palace and\\xa0Park Museum ',\n",
       "  'link': 'http://en.kremlin.ru/events/president/trips/4610'},\n",
       " {'location': 'the Netherlands',\n",
       "  'date': 'June 19, 2009, 19:20 ',\n",
       "  'title': 'Dmitry Medvedev arrived to\\xa0the\\xa0Netherlands on\\xa0a\\xa0two-day working visit ',\n",
       "  'link': 'http://en.kremlin.ru/events/president/trips/4577'},\n",
       " {'location': 'Sverdlovsk Region',\n",
       "  'date': 'June 16, 2009, 16:00 ',\n",
       "  'title': 'Dmitry Medvedev met with President of\\xa0Federative Republic of\\xa0Brazil Luiz Inacio Lula da Silva ',\n",
       "  'link': 'http://en.kremlin.ru/events/president/trips/5144'},\n",
       " {'location': 'Sverdlovsk Region',\n",
       "  'date': 'June 15, 2009, 17:00 ',\n",
       "  'title': 'A\\xa0meeting of\\xa0the\\xa0Shanghai Cooperation Organisation Council of\\xa0Heads of\\xa0State took place in\\xa0Yekaterinburg ',\n",
       "  'link': 'http://en.kremlin.ru/events/president/trips/48903'},\n",
       " {'location': 'Republic of Daghestan',\n",
       "  'date': 'June 9, 2009, 17:15 ',\n",
       "  'title': 'Dmitry Medvedev was in\\xa0Daghestan on\\xa0a\\xa0working visit ',\n",
       "  'link': 'http://en.kremlin.ru/events/president/trips/4609'},\n",
       " {'location': 'Saint Petersburg',\n",
       "  'date': 'June 6, 2009, 09:30 ',\n",
       "  'title': 'Dmitry Medvedev sent greetings to\\xa0participants and\\xa0guests of\\xa0the\\xa0World Grain Forum in\\xa0St Petersburg ',\n",
       "  'link': 'http://en.kremlin.ru/events/president/trips/48902'},\n",
       " {'location': 'Saint Petersburg',\n",
       "  'date': 'June 4, 2009, 19:20 ',\n",
       "  'title': 'Dmitry Medvedev met with President of\\xa0Azerbaijan Ilham Aliyev ',\n",
       "  'link': 'http://en.kremlin.ru/events/president/trips/5150'},\n",
       " {'location': 'Khabarovsk Territory',\n",
       "  'date': 'May 21, 2009, 15:00 ',\n",
       "  'title': 'Informal meeting of\\xa0Russia and\\xa0EU leaders has taken place within the\\xa0framework of\\xa0Russia-EU summit ',\n",
       "  'link': 'http://en.kremlin.ru/events/president/trips/4607'},\n",
       " {'location': 'Finland',\n",
       "  'date': 'April 20, 2009, 17:00 ',\n",
       "  'title': 'Russian-Finnish talks have taken place in\\xa0Helsinki ',\n",
       "  'link': 'http://en.kremlin.ru/events/president/trips/4576'},\n",
       " {'location': 'United Kingdom',\n",
       "  'date': 'April 1, 2009, 14:00 ',\n",
       "  'title': 'Dmitry Medvedev had a\\xa0meeting with Australian Prime Minister Kevin Rudd ',\n",
       "  'link': 'http://en.kremlin.ru/events/president/trips/5156'},\n",
       " {'location': 'Germany',\n",
       "  'date': 'March 31, 2009, 18:10 ',\n",
       "  'title': 'Dmitry Medvedev and\\xa0Federal Chancellor of\\xa0Germany Angela Merkel met with representatives of\\xa0German business circles ',\n",
       "  'link': 'http://en.kremlin.ru/events/president/trips/4575'},\n",
       " {'location': 'Spain',\n",
       "  'date': 'March 2, 2009, 13:30 ',\n",
       "  'title': 'King of\\xa0Spain Juan Carlos I\\xa0and\\xa0Queen Sofia held an\\xa0official welcome ceremony for\\xa0Dmitry and\\xa0Svetlana Medvedev at\\xa0the\\xa0El Pardo Palace ',\n",
       "  'link': 'http://en.kremlin.ru/events/president/trips/4574'},\n",
       " {'location': 'Italy',\n",
       "  'date': 'March 1, 2009, 13:38 ',\n",
       "  'title': 'President of\\xa0Italy Giorgio Napolitano handed over to\\xa0Dmitry Medvedev the\\xa0symbolic keys to\\xa0the\\xa0Russian Orthodox Church Metochion in\\xa0Bari ',\n",
       "  'link': 'http://en.kremlin.ru/events/president/trips/4573'},\n",
       " {'location': 'Sakhalin Region',\n",
       "  'date': 'February 18, 2009, 06:00 ',\n",
       "  'title': 'Dmitry Medvedev held talks with Prime Minister of\\xa0Japan Taro Aso ',\n",
       "  'link': 'http://en.kremlin.ru/events/president/trips/4601'},\n",
       " {'location': 'Saint Petersburg',\n",
       "  'date': 'January 26, 2009, 19:30 ',\n",
       "  'title': 'Dmitry Medvedev awarded Daniil Granin the\\xa0Order of\\xa0St Andrew the\\xa0Apostle ',\n",
       "  'link': 'http://en.kremlin.ru/events/president/trips/4599'},\n",
       " {'location': 'Uzbekistan',\n",
       "  'date': 'January 22, 2009, 15:00 ',\n",
       "  'title': 'Dmitry Medvedev arrived in\\xa0Uzbekistan for\\xa0a\\xa0two-day visit ',\n",
       "  'link': 'http://en.kremlin.ru/events/president/trips/4571'},\n",
       " {'location': 'Republic of Ingushetia',\n",
       "  'date': 'January 20, 2009, 16:00 ',\n",
       "  'title': 'Dmitry Medvedev arrived in\\xa0Ingushetia ',\n",
       "  'link': 'http://en.kremlin.ru/events/president/trips/4597'},\n",
       " {'location': 'Kazakhstan',\n",
       "  'date': 'December 19, 2008, 16:00 ',\n",
       "  'title': 'Dmitry Medvedev had a\\xa0meeting with President of\\xa0Kazakhstan Nursultan Nazarbayev ',\n",
       "  'link': 'http://en.kremlin.ru/events/president/trips/4570'},\n",
       " {'location': 'India',\n",
       "  'date': 'December 4, 2008, 18:40 ',\n",
       "  'title': 'Dmitry Medvedev met with Prime Minister of\\xa0India Manmohan Singh ',\n",
       "  'link': 'http://en.kremlin.ru/events/president/trips/4572'}]"
      ]
     },
     "execution_count": 39,
     "metadata": {},
     "output_type": "execute_result"
    }
   ],
   "source": [
    "all_dict=[]\n",
    "\n",
    "\n",
    "\n",
    "for number in range(25,29):\n",
    "\n",
    "\n",
    "    r = requests.get(\"http://en.kremlin.ru/events/president/trips/page/\"+str(number))\n",
    "    time.sleep(2)\n",
    "    soup = BeautifulSoup(r.content)\n",
    "    links = soup.find_all(\"a\")\n",
    "    content_div = soup.find(\"div\", {\"class\": \"entry-content\"})\n",
    "    content_links = content_div.find_all(\"a\")\n",
    "    trip_links = []\n",
    "    for cl in content_links:\n",
    "        if \"trips\" in cl[\"href\"]:\n",
    "            if cl[\"href\"] in trip_links:\n",
    "                pass\n",
    "            else:\n",
    "                trip_links.append(cl[\"href\"])\n",
    "    \n",
    "    for url_end in trip_links:\n",
    "        url2 = \"http://en.kremlin.ru\" + url_end\n",
    "        doc=requests.get(url2).content\n",
    "        time.sleep(2)\n",
    "        soup_doc = BeautifulSoup(doc,\"html.parser\")\n",
    "    \n",
    "        dict_page = {}\n",
    "        if soup_doc.find(rel=\"tag\") is None:\n",
    "            dict_page['location'] = \"\"\n",
    "        else:\n",
    "            dict_page['location'] = soup_doc.find(rel=\"tag\").text\n",
    "        dict_page['date']= soup_doc.find_all(itemprop=\"datePublished\")[1].string\n",
    "        dict_page['title']=soup_doc.find_all(\"h1\")[1].text\n",
    "        dict_page['link']= url2\n",
    "        all_dict.append(dict_page)\n",
    "    \n",
    "    \n",
    "all_dict    "
   ]
  },
  {
   "cell_type": "code",
   "execution_count": 39,
   "metadata": {},
   "outputs": [],
   "source": []
  },
  {
   "cell_type": "code",
   "execution_count": 40,
   "metadata": {},
   "outputs": [],
   "source": []
  },
  {
   "cell_type": "code",
   "execution_count": 40,
   "metadata": {},
   "outputs": [],
   "source": [
    "df25_29=pd.DataFrame(all_dict)"
   ]
  },
  {
   "cell_type": "code",
   "execution_count": 41,
   "metadata": {},
   "outputs": [],
   "source": [
    "df25_29.to_csv('putin25-29.csv', index=False)"
   ]
  },
  {
   "cell_type": "code",
   "execution_count": 1,
   "metadata": {},
   "outputs": [],
   "source": [
    "#Combined the final database from differnet dictionaries"
   ]
  },
  {
   "cell_type": "code",
   "execution_count": null,
   "metadata": {},
   "outputs": [],
   "source": []
  },
  {
   "cell_type": "code",
   "execution_count": null,
   "metadata": {},
   "outputs": [],
   "source": []
  },
  {
   "cell_type": "code",
   "execution_count": null,
   "metadata": {},
   "outputs": [],
   "source": []
  },
  {
   "cell_type": "code",
   "execution_count": null,
   "metadata": {},
   "outputs": [],
   "source": []
  },
  {
   "cell_type": "code",
   "execution_count": null,
   "metadata": {},
   "outputs": [],
   "source": []
  },
  {
   "cell_type": "code",
   "execution_count": null,
   "metadata": {},
   "outputs": [],
   "source": []
  },
  {
   "cell_type": "code",
   "execution_count": null,
   "metadata": {},
   "outputs": [],
   "source": []
  },
  {
   "cell_type": "code",
   "execution_count": null,
   "metadata": {},
   "outputs": [],
   "source": []
  },
  {
   "cell_type": "code",
   "execution_count": null,
   "metadata": {},
   "outputs": [],
   "source": []
  },
  {
   "cell_type": "code",
   "execution_count": null,
   "metadata": {},
   "outputs": [],
   "source": []
  },
  {
   "cell_type": "code",
   "execution_count": null,
   "metadata": {},
   "outputs": [],
   "source": []
  },
  {
   "cell_type": "code",
   "execution_count": null,
   "metadata": {},
   "outputs": [],
   "source": []
  },
  {
   "cell_type": "code",
   "execution_count": null,
   "metadata": {},
   "outputs": [],
   "source": []
  },
  {
   "cell_type": "code",
   "execution_count": null,
   "metadata": {},
   "outputs": [],
   "source": []
  }
 ],
 "metadata": {
  "kernelspec": {
   "display_name": "Python 3",
   "language": "python",
   "name": "python3"
  },
  "language_info": {
   "codemirror_mode": {
    "name": "ipython",
    "version": 3
   },
   "file_extension": ".py",
   "mimetype": "text/x-python",
   "name": "python",
   "nbconvert_exporter": "python",
   "pygments_lexer": "ipython3",
   "version": "3.7.3"
  }
 },
 "nbformat": 4,
 "nbformat_minor": 2
}
